{
 "cells": [
  {
   "cell_type": "markdown",
   "id": "9f5e5092-0ec2-4636-a627-d0370954c740",
   "metadata": {},
   "source": [
    "### Advent of Code 2021 | Day 1 | Part 2"
   ]
  },
  {
   "cell_type": "code",
   "execution_count": 2,
   "id": "041dcab5-07a5-4c21-9af6-e06fecf0db31",
   "metadata": {},
   "outputs": [],
   "source": [
    "import pandas as pd"
   ]
  },
  {
   "cell_type": "code",
   "execution_count": 3,
   "id": "0fe45dcd-826a-42c1-804f-0be4e3004b8b",
   "metadata": {},
   "outputs": [],
   "source": [
    "df = pd.read_csv('input.txt', sep = '\\n', names = ['nums'])"
   ]
  },
  {
   "cell_type": "code",
   "execution_count": 12,
   "id": "ceb08b8a-7bc0-4bd2-9e2b-7f84d656fd1d",
   "metadata": {},
   "outputs": [
    {
     "name": "stdout",
     "output_type": "stream",
     "text": [
      "Number of sliding windows compared: 1998\n",
      "The depth measurement increases: 1523 times\n"
     ]
    }
   ],
   "source": [
    "previous_element = None\n",
    "window_size = 3\n",
    "window = []\n",
    "window_sums = []\n",
    "increases = []\n",
    "\n",
    "for i, value in enumerate(df['nums']):\n",
    "    window.append(value)\n",
    "    \n",
    "    # What to do if the requisite window buffer is full\n",
    "    if len(window) == window_size:\n",
    "        win_sum = sum(window)\n",
    "        window_sums.append(win_sum)\n",
    "        \n",
    "        # Make sure there's already at least one window sum\n",
    "        if len(window_sums) > 1:\n",
    "            if window_sums[-2] < win_sum:\n",
    "                increases.append(win_sum)\n",
    "        \n",
    "        # Make room in the window for the next observation\n",
    "        window.pop(0)\n",
    "\n",
    "print(f'Number of sliding windows compared: {len(window_sums)}')\n",
    "print(f'The depth measurement increases: {len(increases)} times')"
   ]
  }
 ],
 "metadata": {
  "kernelspec": {
   "display_name": "Python 3",
   "language": "python",
   "name": "python3"
  },
  "language_info": {
   "codemirror_mode": {
    "name": "ipython",
    "version": 3
   },
   "file_extension": ".py",
   "mimetype": "text/x-python",
   "name": "python",
   "nbconvert_exporter": "python",
   "pygments_lexer": "ipython3",
   "version": "3.8.8"
  }
 },
 "nbformat": 4,
 "nbformat_minor": 5
}
