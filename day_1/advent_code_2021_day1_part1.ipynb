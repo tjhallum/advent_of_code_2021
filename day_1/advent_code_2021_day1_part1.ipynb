{
 "cells": [
  {
   "cell_type": "markdown",
   "id": "9f5e5092-0ec2-4636-a627-d0370954c740",
   "metadata": {},
   "source": [
    "### Advent of Code 2021 | Day 1 | Part 1"
   ]
  },
  {
   "cell_type": "code",
   "execution_count": 1,
   "id": "041dcab5-07a5-4c21-9af6-e06fecf0db31",
   "metadata": {},
   "outputs": [],
   "source": [
    "import pandas as pd"
   ]
  },
  {
   "cell_type": "code",
   "execution_count": 2,
   "id": "0fe45dcd-826a-42c1-804f-0be4e3004b8b",
   "metadata": {},
   "outputs": [],
   "source": [
    "df = pd.read_csv('input.txt', sep = '\\n', names = ['nums'])"
   ]
  },
  {
   "cell_type": "code",
   "execution_count": 5,
   "id": "ceb08b8a-7bc0-4bd2-9e2b-7f84d656fd1d",
   "metadata": {},
   "outputs": [
    {
     "name": "stdout",
     "output_type": "stream",
     "text": [
      "The depth measurement increases: 1477 times\n"
     ]
    }
   ],
   "source": [
    "previous_element = None\n",
    "increases = []\n",
    "\n",
    "for value in df['nums']:\n",
    "    if previous_element == None:\n",
    "        pass\n",
    "    else:\n",
    "        if value > previous_element:\n",
    "            increases.append(value)\n",
    "        else:\n",
    "            pass\n",
    "            \n",
    "    previous_element = value\n",
    "    \n",
    "print(f'The depth measurement increases: {len(increases)} times')"
   ]
  }
 ],
 "metadata": {
  "kernelspec": {
   "display_name": "Python 3",
   "language": "python",
   "name": "python3"
  },
  "language_info": {
   "codemirror_mode": {
    "name": "ipython",
    "version": 3
   },
   "file_extension": ".py",
   "mimetype": "text/x-python",
   "name": "python",
   "nbconvert_exporter": "python",
   "pygments_lexer": "ipython3",
   "version": "3.8.8"
  }
 },
 "nbformat": 4,
 "nbformat_minor": 5
}
