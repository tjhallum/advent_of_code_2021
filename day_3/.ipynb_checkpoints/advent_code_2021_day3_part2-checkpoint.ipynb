{
 "cells": [
  {
   "cell_type": "markdown",
   "id": "7678c620-e321-41ce-a6a3-0c8aac1e1fbd",
   "metadata": {},
   "source": [
    "### Advent of Code 2021 | Day 3 | Part 2"
   ]
  },
  {
   "cell_type": "code",
   "execution_count": 1,
   "id": "1d5a328e-57b9-4cb1-81ac-672f39171c24",
   "metadata": {},
   "outputs": [],
   "source": [
    "from collections import Counter\n",
    "import pandas as pd"
   ]
  },
  {
   "cell_type": "code",
   "execution_count": 2,
   "id": "080dead5-b057-47ad-9bf9-be9ca6e29798",
   "metadata": {},
   "outputs": [],
   "source": [
    "df = pd.read_csv('input.txt', sep = '\\n', names = ['binary_diagnostic'], dtype = {'binary_diagnostic':'str'})"
   ]
  },
  {
   "cell_type": "code",
   "execution_count": 3,
   "id": "fe543939-a48b-4f9b-bfbd-aa8e35a72a61",
   "metadata": {},
   "outputs": [
    {
     "name": "stdout",
     "output_type": "stream",
     "text": [
      "The life support rating is: 1877139\n"
     ]
    }
   ],
   "source": [
    "# Create a lists of sub-lists called positions\n",
    "# Each sub-list contains all the binary bits for its corresponding position\n",
    "bit_positions = [[], [], [], [], [], [], [], [], [], [], [], []]\n",
    "\n",
    "# Populate the positions list of sub-lists\n",
    "for value in df['binary_diagnostic']:\n",
    "    # Create list of bits\n",
    "    value_explode = list(value)\n",
    "    \n",
    "    # Place each bit into its proper sub-list\n",
    "    for i, value in enumerate(value_explode):\n",
    "        bit_positions[i].append(value)\n",
    "        \n",
    "# Find 'oxygen generator rating'\n",
    "o_gen_rating_df = df.copy()\n",
    "o_gen_rating = []\n",
    "for i, sub_list in enumerate(bit_positions):\n",
    "    # Generate a version of sub_list that only contains items corresponding to the index values of o_gen_rating_df\n",
    "    filtered_sub_list = [sub_list[index] for index in list(o_gen_rating_df.index)]\n",
    "    \n",
    "    # Identify most common values\n",
    "    mode = Counter(filtered_sub_list).most_common()\n",
    "    \n",
    "    # If there's more than one mode tuple\n",
    "    if len(mode) > 1:\n",
    "        # If 0 & 1 are equally common, set the mode to 1\n",
    "        if mode[0][1] == mode[1][1]:\n",
    "            mode = 1\n",
    "        else:\n",
    "            # Set mode to the single most commonly occuring bit value\n",
    "            mode = mode[0][0]\n",
    "    # If there's only one mode tuple\n",
    "    else:\n",
    "        # Set mode to the single most commonly occuring bit value\n",
    "        mode = mode[0][0]\n",
    "        \n",
    "    # Iteratively populate the o_gen_rating, which will serve as evolving filter criteria for o_gen_rating\n",
    "    o_gen_rating.append(str(mode))\n",
    "    \n",
    "    # Filter o_gen_rating_df\n",
    "    if len(o_gen_rating_df) > 1:\n",
    "        o_gen_rating_df = o_gen_rating_df[o_gen_rating_df['binary_diagnostic'].str[:i + 1] == ''.join(o_gen_rating)].copy()\n",
    "    else:\n",
    "        break\n",
    "\n",
    "# Find 'CO2 scrubber rating'\n",
    "c02_scrub_rating_df = df.copy()\n",
    "c02_scrub_rating = []\n",
    "for i, sub_list in enumerate(bit_positions):\n",
    "    # Generate a version of sub_list that only contains items corresponding to the index values of c02_scrub_rating_df\n",
    "    filtered_sub_list = [sub_list[index] for index in list(c02_scrub_rating_df.index)]\n",
    "    \n",
    "    # Identify least common values\n",
    "    anti_mode = Counter(filtered_sub_list).most_common()[:-2-1:-1]\n",
    "    \n",
    "    # If there's more than one anti_mode tuple\n",
    "    if len(anti_mode) > 1:\n",
    "        # If 0 & 1 are equally common, set the anti_mode to 0\n",
    "        if anti_mode[0][1] == anti_mode[1][1]:\n",
    "            anti_mode = 0\n",
    "        else:\n",
    "            # Set anti_mode to the single most commonly occuring bit value\n",
    "            anti_mode = anti_mode[0][0]\n",
    "    # If there's only one anti_mode tuple\n",
    "    else:\n",
    "        # Set anti_mode to the single least commonly occuring bit value\n",
    "        anti_mode = anti_mode[0][0]\n",
    "        \n",
    "    # Iteratively populate the c02_scrub_rating, which will serve as evolving filter criteria for c02_scrub_rating_df\n",
    "    c02_scrub_rating.append(str(anti_mode))\n",
    "    \n",
    "    # Filter c02_scrub_rating_df\n",
    "    if len(c02_scrub_rating_df) > 1:\n",
    "        c02_scrub_rating_df = c02_scrub_rating_df[c02_scrub_rating_df['binary_diagnostic'].str[:i + 1] == ''.join(c02_scrub_rating)].copy()\n",
    "    else:\n",
    "        break\n",
    "        \n",
    "# Convert binary strings to decimal values\n",
    "o_gen_rating_dec = int(o_gen_rating_df['binary_diagnostic'].iloc[0], 2)\n",
    "c02_scrub_rating_dec = int(c02_scrub_rating_df['binary_diagnostic'].iloc[0], 2)\n",
    "\n",
    "# Calc life support rating\n",
    "life_support_rating = o_gen_rating_dec * c02_scrub_rating_dec\n",
    "\n",
    "print(f'The life support rating is: {life_support_rating}')"
   ]
  }
 ],
 "metadata": {
  "kernelspec": {
   "display_name": "Python 3",
   "language": "python",
   "name": "python3"
  },
  "language_info": {
   "codemirror_mode": {
    "name": "ipython",
    "version": 3
   },
   "file_extension": ".py",
   "mimetype": "text/x-python",
   "name": "python",
   "nbconvert_exporter": "python",
   "pygments_lexer": "ipython3",
   "version": "3.8.8"
  }
 },
 "nbformat": 4,
 "nbformat_minor": 5
}
