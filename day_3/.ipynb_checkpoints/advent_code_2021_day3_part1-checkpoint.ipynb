{
 "cells": [
  {
   "cell_type": "markdown",
   "id": "7678c620-e321-41ce-a6a3-0c8aac1e1fbd",
   "metadata": {},
   "source": [
    "### Advent of Code 2021 | Day 3 | Part 1"
   ]
  },
  {
   "cell_type": "code",
   "execution_count": 1,
   "id": "1d5a328e-57b9-4cb1-81ac-672f39171c24",
   "metadata": {},
   "outputs": [],
   "source": [
    "from collections import Counter\n",
    "import pandas as pd"
   ]
  },
  {
   "cell_type": "code",
   "execution_count": 2,
   "id": "080dead5-b057-47ad-9bf9-be9ca6e29798",
   "metadata": {},
   "outputs": [],
   "source": [
    "df = pd.read_csv('input.txt', sep = '\\n', names = ['binary_diagnostic'], dtype = {'binary_diagnostic':'str'})"
   ]
  },
  {
   "cell_type": "code",
   "execution_count": 3,
   "id": "fe543939-a48b-4f9b-bfbd-aa8e35a72a61",
   "metadata": {},
   "outputs": [
    {
     "name": "stdout",
     "output_type": "stream",
     "text": [
      "The power consumption is: 2003336\n"
     ]
    }
   ],
   "source": [
    "# Create a lists of sub-lists called positions\n",
    "# Each sub-list contains all the binary bits for its corresponding position\n",
    "bit_positions = [[], [], [], [], [], [], [], [], [], [], [], []]\n",
    "\n",
    "# Populate the positions list of sub-lists\n",
    "for value in enumerate(df['binary_diagnostic']):\n",
    "    # Create list of bits\n",
    "    value_explode = list(value[1])\n",
    "    \n",
    "    # Place each bit into its proper sub-list\n",
    "    for i, value in enumerate(value_explode):\n",
    "        bit_positions[i].append(value)\n",
    "        \n",
    "# Find 'gamma rate' & epsilon rate' (statistical mode & anti-mode of each bit position)\n",
    "gamma_rate = []\n",
    "epsilon_rate = []\n",
    "for sub_list in bit_positions:\n",
    "    mode = Counter(sub_list).most_common()[0][0]\n",
    "    anti_mode = Counter(sub_list).most_common()[-1][0]\n",
    "    gamma_rate.append(mode)\n",
    "    epsilon_rate.append(anti_mode)\n",
    "\n",
    "# Convert binary lists to binary strings\n",
    "gamma_rate_str = ''.join(gamma_rate)\n",
    "epsilon_rate_str = ''.join(epsilon_rate)\n",
    "\n",
    "# Convert binary strings to decimal values\n",
    "gamma_rate_dec = int(gamma_rate_str, 2)\n",
    "epsilon_rate_dec = int(epsilon_rate_str, 2)\n",
    "\n",
    "# Calc power consumption\n",
    "pwr_consumption = gamma_rate_dec * epsilon_rate_dec\n",
    "\n",
    "print(f'The power consumption is: {pwr_consumption}')"
   ]
  }
 ],
 "metadata": {
  "kernelspec": {
   "display_name": "Python 3",
   "language": "python",
   "name": "python3"
  },
  "language_info": {
   "codemirror_mode": {
    "name": "ipython",
    "version": 3
   },
   "file_extension": ".py",
   "mimetype": "text/x-python",
   "name": "python",
   "nbconvert_exporter": "python",
   "pygments_lexer": "ipython3",
   "version": "3.8.8"
  }
 },
 "nbformat": 4,
 "nbformat_minor": 5
}
