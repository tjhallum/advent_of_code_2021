{
 "cells": [
  {
   "cell_type": "markdown",
   "id": "7678c620-e321-41ce-a6a3-0c8aac1e1fbd",
   "metadata": {},
   "source": [
    "### Advent of Code 2021 | Day 2 | Part 2"
   ]
  },
  {
   "cell_type": "code",
   "execution_count": 2,
   "id": "1d5a328e-57b9-4cb1-81ac-672f39171c24",
   "metadata": {},
   "outputs": [],
   "source": [
    "import pandas as pd"
   ]
  },
  {
   "cell_type": "code",
   "execution_count": 3,
   "id": "080dead5-b057-47ad-9bf9-be9ca6e29798",
   "metadata": {},
   "outputs": [],
   "source": [
    "df = pd.read_csv('input.txt', sep = '\\n', names = ['commands'])"
   ]
  },
  {
   "cell_type": "code",
   "execution_count": 4,
   "id": "fe543939-a48b-4f9b-bfbd-aa8e35a72a61",
   "metadata": {},
   "outputs": [
    {
     "name": "stdout",
     "output_type": "stream",
     "text": [
      "Final Location - Final Horizontal Position: 1957 | Final Depth: 1004584\n",
      "Horizontal Position * Depth: 1965970888\n"
     ]
    }
   ],
   "source": [
    "# horizontal, depth, aim\n",
    "coords = [0, 0, 0]\n",
    "\n",
    "for i, value in enumerate(df['commands']):\n",
    "    value_explode = value.split(' ')\n",
    "    \n",
    "    # Increase your aim by X units\n",
    "    if value_explode[0] == 'down':\n",
    "        coords[2] = coords[2] + int(value_explode[1])\n",
    "    # Decrease your aim by X units\n",
    "    elif value_explode[0] == 'up':\n",
    "        coords[2] = coords[2] - int(value_explode[1])\n",
    "    # Increase your horizontal position by X units\n",
    "    # AND increase your depth by your aim multiplied by X\n",
    "    else:\n",
    "        coords[0] = coords[0] + int(value_explode[1])\n",
    "        coords[1] = coords[1] + (coords[2] * int(value_explode[1]))\n",
    "        \n",
    "print(f'Final Location - Final Horizontal Position: {coords[0]} | Final Depth: {coords[1]}')\n",
    "print(f'Horizontal Position * Depth: {coords[0] * coords[1]}')"
   ]
  }
 ],
 "metadata": {
  "kernelspec": {
   "display_name": "Python 3",
   "language": "python",
   "name": "python3"
  },
  "language_info": {
   "codemirror_mode": {
    "name": "ipython",
    "version": 3
   },
   "file_extension": ".py",
   "mimetype": "text/x-python",
   "name": "python",
   "nbconvert_exporter": "python",
   "pygments_lexer": "ipython3",
   "version": "3.8.8"
  }
 },
 "nbformat": 4,
 "nbformat_minor": 5
}
