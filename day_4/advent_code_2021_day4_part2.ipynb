{
 "cells": [
  {
   "cell_type": "markdown",
   "id": "7678c620-e321-41ce-a6a3-0c8aac1e1fbd",
   "metadata": {},
   "source": [
    "### Advent of Code 2021 | Day 4 | Part 2"
   ]
  },
  {
   "cell_type": "code",
   "execution_count": 1,
   "id": "1d5a328e-57b9-4cb1-81ac-672f39171c24",
   "metadata": {},
   "outputs": [],
   "source": [
    "from collections import Counter\n",
    "import itertools\n",
    "import numpy as np\n",
    "import pandas as pd\n",
    "from tqdm import tqdm"
   ]
  },
  {
   "cell_type": "code",
   "execution_count": 2,
   "id": "080dead5-b057-47ad-9bf9-be9ca6e29798",
   "metadata": {},
   "outputs": [],
   "source": [
    "# Read in data\n",
    "input = []\n",
    "with open('input.txt') as f:\n",
    "    for line in f:\n",
    "        input.append(line.replace(\"\\n\", \"\"))"
   ]
  },
  {
   "cell_type": "code",
   "execution_count": 3,
   "id": "fe543939-a48b-4f9b-bfbd-aa8e35a72a61",
   "metadata": {},
   "outputs": [],
   "source": [
    "# Extract random number draw\n",
    "rand_num_draw = input[0].split(',')\n",
    "input.pop(0)\n",
    "\n",
    "# Convert the string #'s to the int dtype\n",
    "rand_num_draw = [int(item) for item in rand_num_draw]"
   ]
  },
  {
   "cell_type": "code",
   "execution_count": 4,
   "id": "ed4ce87f-5e47-4da6-a50f-a3d4c98f1bf3",
   "metadata": {},
   "outputs": [],
   "source": [
    "# Remove leading empty line\n",
    "input.pop(0)\n",
    "\n",
    "# Extract bingo boards\n",
    "boards = []\n",
    "binary_boards = []\n",
    "board = []\n",
    "binary_board = []\n",
    "\n",
    "for i, line in enumerate(input):\n",
    "    # If we encounter an empty line, then add the add the current board/binary_board to boards/binary_boards and reset board & binary_board to empty lists\n",
    "    if line == '':\n",
    "        boards.append(board)\n",
    "        binary_boards.append(binary_board)\n",
    "        board = []\n",
    "        binary_board = []\n",
    "        # Start the loop's next iteration without finishing this iteration\n",
    "        continue\n",
    "    \n",
    "    # Replace any double-spaces in the line with single-spaces and also strip leading & trailing spaces\n",
    "    # Add the cleaned-up line to the current board\n",
    "    line = line.replace('  ', ' ').strip().split(' ')\n",
    "    \n",
    "    # Convert the string #'s to the int dtype\n",
    "    line = [int(item) for item in line]\n",
    "    \n",
    "    # Add the current line to the current board\n",
    "    board.append(line)\n",
    "    \n",
    "    # Add a line of False values to binary_board\n",
    "    binary_board.append([False, False, False, False, False])\n",
    "    \n",
    "    # If we've reached the last line of the file, then append the current (final) boards to boards/binary_boards respectively\n",
    "    if i == len(input) - 1:\n",
    "        boards.append(board)\n",
    "        binary_boards.append(binary_board)"
   ]
  },
  {
   "cell_type": "code",
   "execution_count": 5,
   "id": "b014781e-6b80-4653-b3d1-2170a23e2a00",
   "metadata": {},
   "outputs": [],
   "source": [
    "# Create DataFrame boards\n",
    "board_list_of_dfs = []\n",
    "for i, board in enumerate(boards):\n",
    "    board_list_of_dfs.append([i, pd.DataFrame(board)])\n",
    "    \n",
    "# Create DataFrame binary boards\n",
    "binary_board_list_of_dfs = []\n",
    "for i, binary_board in enumerate(binary_boards):\n",
    "    binary_board_list_of_dfs.append([i, pd.DataFrame(binary_board)])"
   ]
  },
  {
   "cell_type": "code",
   "execution_count": 6,
   "id": "4b4b9a39-6fec-4f50-909b-e7672c993c2b",
   "metadata": {},
   "outputs": [
    {
     "name": "stderr",
     "output_type": "stream",
     "text": [
      " 24%|███████████████████▍                                                             | 24/100 [00:00<00:01, 42.22it/s]"
     ]
    },
    {
     "name": "stdout",
     "output_type": "stream",
     "text": [
      "Bingo called on random #60 for board #41 - final score: 46920!\n",
      "Bingo called on random #78 for board #23 - final score: 71994!\n",
      "Bingo called on random #78 for board #53 - final score: 54444!\n",
      "Bingo called on random #78 for board #61 - final score: 59280!\n",
      "Bingo called on random #78 for board #62 - final score: 36114!\n"
     ]
    },
    {
     "name": "stderr",
     "output_type": "stream",
     "text": [
      " 39%|███████████████████████████████▌                                                 | 39/100 [00:00<00:01, 43.35it/s]"
     ]
    },
    {
     "name": "stdout",
     "output_type": "stream",
     "text": [
      "Bingo called on random #1 for board #11 - final score: 955!\n",
      "Bingo called on random #39 for board #90 - final score: 29835!\n",
      "Bingo called on random #84 for board #20 - final score: 53004!\n",
      "Bingo called on random #93 for board #8 - final score: 68262!\n",
      "Bingo called on random #24 for board #0 - final score: 15912!\n",
      "Bingo called on random #42 for board #14 - final score: 25704!\n",
      "Bingo called on random #42 for board #57 - final score: 31038!\n",
      "Bingo called on random #7 for board #27 - final score: 4886!\n",
      "Bingo called on random #7 for board #50 - final score: 4053!\n",
      "Bingo called on random #7 for board #85 - final score: 4739!"
     ]
    },
    {
     "name": "stderr",
     "output_type": "stream",
     "text": [
      " 49%|███████████████████████████████████████▋                                         | 49/100 [00:01<00:01, 45.43it/s]"
     ]
    },
    {
     "name": "stdout",
     "output_type": "stream",
     "text": [
      "\n",
      "Bingo called on random #56 for board #40 - final score: 47320!\n",
      "Bingo called on random #56 for board #99 - final score: 42168!\n",
      "Bingo called on random #92 for board #52 - final score: 64032!\n",
      "Bingo called on random #92 for board #59 - final score: 50324!\n",
      "Bingo called on random #90 for board #38 - final score: 47520!\n",
      "Bingo called on random #90 for board #94 - final score: 38790!\n",
      "Bingo called on random #36 for board #45 - final score: 19116!\n",
      "Bingo called on random #36 for board #63 - final score: 20160!\n",
      "Bingo called on random #36 for board #73 - final score: 12168!\n",
      "Bingo called on random #34 for board #19 - final score: 25160!\n",
      "Bingo called on random #52 for board #6 - final score: 21632!\n",
      "Bingo called on random #52 for board #65 - final score: 29172!\n",
      "Bingo called on random #52 for board #72 - final score: 29380!\n",
      "Bingo called on random #50 for board #80 - final score: 36800!\n",
      "Bingo called on random #85 for board #3 - final score: 42585!"
     ]
    },
    {
     "name": "stderr",
     "output_type": "stream",
     "text": [
      " 61%|█████████████████████████████████████████████████▍                               | 61/100 [00:01<00:00, 49.43it/s]"
     ]
    },
    {
     "name": "stdout",
     "output_type": "stream",
     "text": [
      "\n",
      "Bingo called on random #85 for board #28 - final score: 27710!\n",
      "Bingo called on random #85 for board #55 - final score: 25925!\n",
      "Bingo called on random #75 for board #76 - final score: 31575!\n",
      "Bingo called on random #89 for board #31 - final score: 22606!\n",
      "Bingo called on random #89 for board #47 - final score: 61766!\n",
      "Bingo called on random #89 for board #86 - final score: 58918!\n",
      "Bingo called on random #89 for board #95 - final score: 58117!\n",
      "Bingo called on random #89 for board #98 - final score: 36579!\n",
      "Bingo called on random #63 for board #34 - final score: 34020!\n",
      "Bingo called on random #63 for board #84 - final score: 33138!\n",
      "Bingo called on random #33 for board #12 - final score: 15015!\n",
      "Bingo called on random #33 for board #21 - final score: 13497!\n",
      "Bingo called on random #33 for board #36 - final score: 13530!\n",
      "Bingo called on random #33 for board #42 - final score: 13002!\n",
      "Bingo called on random #33 for board #44 - final score: 13200!\n",
      "Bingo called on random #33 for board #87 - final score: 10560!\n",
      "Bingo called on random #4 for board #75 - final score: 1468!\n",
      "Bingo called on random #4 for board #77 - final score: 2188!\n",
      "Bingo called on random #66 for board #74 - final score: 27126!\n",
      "Bingo called on random #66 for board #79 - final score: 24684!\n",
      "Bingo called on random #66 for board #97 - final score: 29898!\n",
      "Bingo called on random #17 for board #4 - final score: 9129!\n",
      "Bingo called on random #17 for board #15 - final score: 6732!\n",
      "Bingo called on random #17 for board #32 - final score: 11237!\n",
      "Bingo called on random #17 for board #43 - final score: 8755!\n",
      "Bingo called on random #17 for board #88 - final score: 5933!\n",
      "Bingo called on random #98 for board #18 - final score: 43904!\n",
      "Bingo called on random #57 for board #60 - final score: 20064!\n",
      "Bingo called on random #57 for board #68 - final score: 26904!\n",
      "Bingo called on random #3 for board #17 - final score: 1062!\n",
      "Bingo called on random #3 for board #46 - final score: 774!\n",
      "Bingo called on random #3 for board #48 - final score: 891!\n",
      "Bingo called on random #9 for board #33 - final score: 3393!\n",
      "Bingo called on random #54 for board #7 - final score: 21168!\n",
      "Bingo called on random #54 for board #24 - final score: 21330!\n",
      "Bingo called on random #54 for board #39 - final score: 27162!\n",
      "Bingo called on random #54 for board #64 - final score: 25488!\n",
      "Bingo called on random #54 for board #93 - final score: 20628!"
     ]
    },
    {
     "name": "stderr",
     "output_type": "stream",
     "text": [
      " 69%|███████████████████████████████████████████████████████▉                         | 69/100 [00:01<00:00, 56.57it/s]"
     ]
    },
    {
     "name": "stdout",
     "output_type": "stream",
     "text": [
      "\n",
      "Bingo called on random #0 for board #2 - final score: 0!\n",
      "Bingo called on random #94 for board #16 - final score: 52264!\n",
      "Bingo called on random #94 for board #35 - final score: 27166!\n",
      "Bingo called on random #94 for board #71 - final score: 44838!\n",
      "Bingo called on random #29 for board #26 - final score: 13108!\n",
      "Bingo called on random #79 for board #13 - final score: 28835!\n",
      "Bingo called on random #79 for board #37 - final score: 33496!\n",
      "Bingo called on random #79 for board #69 - final score: 35155!\n",
      "Bingo called on random #61 for board #49 - final score: 20313!\n",
      "Bingo called on random #61 for board #56 - final score: 23485!\n",
      "Bingo called on random #61 for board #89 - final score: 35197!\n",
      "Bingo called on random #45 for board #9 - final score: 22095!\n",
      "Bingo called on random #45 for board #51 - final score: 14040!\n",
      "Bingo called on random #45 for board #58 - final score: 11835!\n",
      "Bingo called on random #45 for board #70 - final score: 19035!\n",
      "Bingo called on random #86 for board #1 - final score: 23994!\n",
      "Bingo called on random #16 for board #66 - final score: 5520!\n",
      "Bingo called on random #16 for board #92 - final score: 3392!\n",
      "Bingo called on random #30 for board #10 - final score: 15330!\n",
      "Bingo called on random #77 for board #30 - final score: 46277!\n",
      "Bingo called on random #77 for board #96 - final score: 23870!\n",
      "Bingo called on random #76 for board #82 - final score: 20824!\n",
      "Bingo called on random #6 for board #54 - final score: 2172!\n",
      "Bingo called on random #6 for board #67 - final score: 2076!\n",
      "Bingo called on random #38 for board #81 - final score: 13110!\n",
      "Bingo called on random #70 for board #91 - final score: 25270!\n",
      "Bingo called on random #72 for board #22 - final score: 24120!\n",
      "Bingo called on random #72 for board #78 - final score: 15192!\n",
      "Bingo called on random #43 for board #25 - final score: 14061!\n",
      "Bingo called on random #43 for board #83 - final score: 12556!\n",
      "Bingo called on random #69 for board #5 - final score: 30567!\n",
      "Bingo called on random #35 for board #29 - final score: 12635!\n"
     ]
    },
    {
     "name": "stderr",
     "output_type": "stream",
     "text": [
      "100%|████████████████████████████████████████████████████████████████████████████████| 100/100 [00:20<00:00, 56.57it/s]"
     ]
    }
   ],
   "source": [
    "# Iterate for every random number\n",
    "progress_bar = tqdm(total = len(rand_num_draw))\n",
    "completed_boards = []\n",
    "complete_board_list_of_dfs = []\n",
    "complete_binary_board_list_of_dfs = []\n",
    "\n",
    "# Execute an iteration of the loop for every random number\n",
    "for rand_i, rand in enumerate(rand_num_draw):\n",
    "    \n",
    "    # Search through every board for the random number\n",
    "    for board_df_i, board_df in enumerate(board_list_of_dfs):\n",
    "        # Check to see if the board already has bino\n",
    "        if board_df_i in completed_boards:\n",
    "            # If so, do not continue checking this board for bingo again\n",
    "            continue\n",
    "        # Proceed with checking the board for bingo\n",
    "        else:\n",
    "            # Extract the row index(s) & column index(s) for each occurrence of the random number on the current board\n",
    "            ri, ci = np.where(board_df[1] == rand)\n",
    "\n",
    "            # Actions to take if the random number is found on the current board\n",
    "            if (len(ri) + len(ci)) > 0:\n",
    "                # Convert the board index/row index(s)/column index(s) into coord style tuples\n",
    "                bi_ri_ci = list(zip(itertools.repeat(board_df_i), ri, ci))\n",
    "\n",
    "                # Plot all the random number hits as True values on the current binary board\n",
    "                for coord in bi_ri_ci:\n",
    "                    # Set random number hit to True on the current binary board\n",
    "                    binary_board_list_of_dfs[coord[0]][1].at[coord[1], coord[2]] = True\n",
    "\n",
    "                    # Check whether any of the current binary board's rows have bingo (returns True or False)\n",
    "                    bingo_rows = any(binary_board_list_of_dfs[coord[0]][1].all(axis = 1).to_list())\n",
    "\n",
    "                    # Check whether any of the current binary board's columns have bingo (returns True or False)\n",
    "                    bingo_columns = any(binary_board_list_of_dfs[coord[0]][1].all(axis = 0).to_list())\n",
    "\n",
    "                    # If the board is found to have bingo in the rows or columns, then Call \"BINGO!\"\n",
    "                    if bingo_rows or bingo_columns:\n",
    "                        # Use the current binary board as a mask to sum only the unmarked numbers on the current board\n",
    "                        sum_unmarked = board_list_of_dfs[coord[0]][1].where(~binary_board_list_of_dfs[coord[0]][1]).apply(pd.to_numeric, errors='ignore').sum().sum()\n",
    "                        \n",
    "                        # Multiply the sum by the current randum number\n",
    "                        final_score = int(sum_unmarked) * int(rand)\n",
    "                        print(f'Bingo called on random #{rand} for board #{binary_board_list_of_dfs[coord[0]][0]} - final score: {final_score}!')\n",
    "                        \n",
    "                        # Log board win\n",
    "                        completed_boards.append(board_list_of_dfs[coord[0]][0])\n",
    "                        \n",
    "    progress_bar.update(1)"
   ]
  },
  {
   "cell_type": "code",
   "execution_count": null,
   "id": "fe82f519-9991-4e12-9dd4-14815246c358",
   "metadata": {},
   "outputs": [],
   "source": []
  }
 ],
 "metadata": {
  "kernelspec": {
   "display_name": "Python 3",
   "language": "python",
   "name": "python3"
  },
  "language_info": {
   "codemirror_mode": {
    "name": "ipython",
    "version": 3
   },
   "file_extension": ".py",
   "mimetype": "text/x-python",
   "name": "python",
   "nbconvert_exporter": "python",
   "pygments_lexer": "ipython3",
   "version": "3.8.8"
  }
 },
 "nbformat": 4,
 "nbformat_minor": 5
}
