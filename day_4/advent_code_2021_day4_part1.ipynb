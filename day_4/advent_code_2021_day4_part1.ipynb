{
 "cells": [
  {
   "cell_type": "markdown",
   "id": "7678c620-e321-41ce-a6a3-0c8aac1e1fbd",
   "metadata": {},
   "source": [
    "### Advent of Code 2021 | Day 4 | Part 1"
   ]
  },
  {
   "cell_type": "code",
   "execution_count": 1,
   "id": "1d5a328e-57b9-4cb1-81ac-672f39171c24",
   "metadata": {},
   "outputs": [],
   "source": [
    "from collections import Counter\n",
    "import itertools\n",
    "import numpy as np\n",
    "import pandas as pd\n",
    "from tqdm import tqdm"
   ]
  },
  {
   "cell_type": "code",
   "execution_count": 2,
   "id": "080dead5-b057-47ad-9bf9-be9ca6e29798",
   "metadata": {},
   "outputs": [],
   "source": [
    "# Read in data\n",
    "input = []\n",
    "with open('input.txt') as f:\n",
    "    for line in f:\n",
    "        input.append(line.replace(\"\\n\", \"\"))"
   ]
  },
  {
   "cell_type": "code",
   "execution_count": 3,
   "id": "fe543939-a48b-4f9b-bfbd-aa8e35a72a61",
   "metadata": {},
   "outputs": [],
   "source": [
    "# Extract random number draw\n",
    "rand_num_draw = input[0].split(',')\n",
    "input.pop(0)\n",
    "\n",
    "# Convert the string #'s to the int dtype\n",
    "rand_num_draw = [int(item) for item in rand_num_draw]"
   ]
  },
  {
   "cell_type": "code",
   "execution_count": 4,
   "id": "ed4ce87f-5e47-4da6-a50f-a3d4c98f1bf3",
   "metadata": {},
   "outputs": [],
   "source": [
    "# Remove leading empty line\n",
    "input.pop(0)\n",
    "\n",
    "# Extract bingo boards\n",
    "boards = []\n",
    "binary_boards = []\n",
    "board = []\n",
    "binary_board = []\n",
    "\n",
    "for line in input:\n",
    "    # If we encounter an empty line, then add the add the current board/binary_board to boards/binary_boards and reset board & binary_board to empty lists\n",
    "    if line == '':\n",
    "        boards.append(board)\n",
    "        binary_boards.append(binary_board)\n",
    "        board = []\n",
    "        binary_board = []\n",
    "        continue\n",
    "        \n",
    "    # Replace any double-spaces in the line with single-spaces and also strip leading & trailing spaces\n",
    "    # Add the cleaned-up line to the current board\n",
    "    line = line.replace('  ', ' ').strip().split(' ')\n",
    "    \n",
    "    # Convert the string #'s to the int dtype\n",
    "    line = [int(item) for item in line]\n",
    "    \n",
    "    # Add the current line to the current board\n",
    "    board.append(line)\n",
    "    \n",
    "    # Add a line of False values to binary_board\n",
    "    binary_board.append([False, False, False, False, False])"
   ]
  },
  {
   "cell_type": "code",
   "execution_count": 5,
   "id": "b014781e-6b80-4653-b3d1-2170a23e2a00",
   "metadata": {},
   "outputs": [],
   "source": [
    "# Create boards\n",
    "board_list_of_dfs = []\n",
    "for i, board in enumerate(boards):\n",
    "    board_list_of_dfs.append([i, pd.DataFrame(board)])\n",
    "    \n",
    "# Create binary boards\n",
    "binary_board_list_of_dfs = []\n",
    "for i, binary_board in enumerate(binary_boards):\n",
    "    binary_board_list_of_dfs.append([i, pd.DataFrame(binary_board)])"
   ]
  },
  {
   "cell_type": "code",
   "execution_count": 6,
   "id": "4b4b9a39-6fec-4f50-909b-e7672c993c2b",
   "metadata": {},
   "outputs": [
    {
     "name": "stderr",
     "output_type": "stream",
     "text": [
      "100%|███████████████████████████████████████████████████████████████████████████████| 100/100 [00:00<00:00, 217.39it/s]"
     ]
    },
    {
     "name": "stdout",
     "output_type": "stream",
     "text": [
      "Bingo called on random #60 for board #41 - final score: 46920!\n"
     ]
    },
    {
     "name": "stderr",
     "output_type": "stream",
     "text": [
      "\n"
     ]
    }
   ],
   "source": [
    "# Execute an iteration of the loop for every random number\n",
    "progress_bar = tqdm(total = len(rand_num_draw))\n",
    "try:\n",
    "    for rand_i, rand in enumerate(rand_num_draw):\n",
    "        \n",
    "        # Search through every board for the random number\n",
    "        for i, board_df in enumerate(board_list_of_dfs):\n",
    "            # Extract the row index(s) & column index(s) when the random number is found\n",
    "            ri, ci = np.where(board_df[1] == rand)\n",
    "            \n",
    "            # Actions to take if the random number is found\n",
    "            if (len(ri) + len(ci)) > 0:\n",
    "                # Convert the board index/row index(s)/column index(s) into coord style tuples\n",
    "                bi_ri_ci = list(zip(itertools.repeat(i), ri, ci))\n",
    "                \n",
    "                # Plot the bingo hits\n",
    "                for coord in bi_ri_ci:\n",
    "                    # Set random number hit to True on the current binary board\n",
    "                    binary_board_list_of_dfs[coord[0]][1].at[coord[1], coord[2]] = True\n",
    "                    \n",
    "                    # Check whether any of the current binary board's rows have bingo (returns True or False)\n",
    "                    bingo_rows = any(binary_board_list_of_dfs[coord[0]][1].all(axis = 1).to_list())\n",
    "\n",
    "                    # Check whether any of the current binary board's columns have bingo (returns True or False)\n",
    "                    bingo_columns = any(binary_board_list_of_dfs[coord[0]][1].all(axis = 0).to_list())\n",
    "\n",
    "                    # If the board is found to have bingo in the rows or columns, then Call \"BINGO!\"\n",
    "                    if bingo_rows or bingo_columns:\n",
    "                        # Use the current binary board as a mask to sum only the unmarked numbers on the current board\n",
    "                        sum_unmarked = board_list_of_dfs[coord[0]][1].where(~binary_board_list_of_dfs[coord[0]][1]).apply(pd.to_numeric, errors='ignore').sum().sum()\n",
    "                        \n",
    "                        # Multiply the sum by the current randum number\n",
    "                        final_score = int(sum_unmarked) * int(rand)\n",
    "                        print(f'Bingo called on random #{rand} for board #{binary_board_list_of_dfs[coord[0]][0]} - final score: {final_score}!')\n",
    "                        \n",
    "                        # Break out of all nested loops\n",
    "                        raise StopIteration\n",
    "        \n",
    "        progress_bar.update(1)\n",
    "\n",
    "except StopIteration:\n",
    "    progress_bar.update((len(rand_num_draw) - rand_i))\n",
    "    progress_bar.close()"
   ]
  }
 ],
 "metadata": {
  "kernelspec": {
   "display_name": "Python 3",
   "language": "python",
   "name": "python3"
  },
  "language_info": {
   "codemirror_mode": {
    "name": "ipython",
    "version": 3
   },
   "file_extension": ".py",
   "mimetype": "text/x-python",
   "name": "python",
   "nbconvert_exporter": "python",
   "pygments_lexer": "ipython3",
   "version": "3.8.8"
  }
 },
 "nbformat": 4,
 "nbformat_minor": 5
}
