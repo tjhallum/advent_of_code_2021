{
 "cells": [
  {
   "cell_type": "markdown",
   "id": "7678c620-e321-41ce-a6a3-0c8aac1e1fbd",
   "metadata": {},
   "source": [
    "### Advent of Code 2021 | Day 5 | Part 1"
   ]
  },
  {
   "cell_type": "code",
   "execution_count": 1,
   "id": "1d5a328e-57b9-4cb1-81ac-672f39171c24",
   "metadata": {},
   "outputs": [],
   "source": [
    "# =============================================================================\n",
    "# IMPORTS\n",
    "# =============================================================================\n",
    "import numpy as np\n",
    "import pandas as pd"
   ]
  },
  {
   "cell_type": "code",
   "execution_count": 2,
   "id": "080dead5-b057-47ad-9bf9-be9ca6e29798",
   "metadata": {},
   "outputs": [],
   "source": [
    "# =============================================================================\n",
    "# GET DATA\n",
    "# =============================================================================\n",
    "# Read the data in as list of lists properly formatted for conversion to a DataFrame\n",
    "input = []\n",
    "with open('input.txt') as f:\n",
    "    # Process each line in the file\n",
    "    for line_index, line in enumerate(f):\n",
    "        # Remove the return characters & split the coordinates apart\n",
    "        line = line.replace(\"\\n\", \"\").split('->')\n",
    "        # Process each coordinate in each line\n",
    "        for coord_index, coord in enumerate(line):\n",
    "            # Remove leading and trailing whitepaces around each coordinate\n",
    "            coord = coord.strip().split(',')\n",
    "            # Process each element of each coordinate\n",
    "            for element_index, element in enumerate(coord):\n",
    "                # Convert the coordinate elements from strings to integers\n",
    "                coord[element_index] = int(element)\n",
    "            line[coord_index] = coord\n",
    "        line = line[0] + line[1]\n",
    "        input.append(line)"
   ]
  },
  {
   "cell_type": "code",
   "execution_count": 3,
   "id": "f49b33c7-77c7-4a02-ac67-1a34dd4320e7",
   "metadata": {},
   "outputs": [],
   "source": [
    "# =============================================================================\n",
    "# CREATE 2DARRAY\n",
    "# =============================================================================\n",
    "# Convert the input into a DataFrame\n",
    "input_df = pd.DataFrame(input, columns = ['start_x', 'start_y', 'end_x', 'end_y'])\n",
    "\n",
    "# Determine the overall maximum x value\n",
    "max_x = pd.concat([input_df['start_x'], input_df['end_x']]).max()\n",
    "\n",
    "# Determine the overall maximum y value\n",
    "max_y = pd.concat([input_df['start_y'], input_df['end_y']]).max()\n",
    "\n",
    "# Determine the maximum extent that will later be used to create a properly sized 2darray\n",
    "max_extent = max(max_x, max_y)\n",
    "\n",
    "# Use the max_extent to create an adequately sized square 2darray\n",
    "twodarray = np.zeros((max_extent + 1, max_extent + 1), int)"
   ]
  },
  {
   "cell_type": "code",
   "execution_count": 4,
   "id": "3b4984e4-a39d-498f-8ce3-6b95cbf9bf3c",
   "metadata": {},
   "outputs": [],
   "source": [
    "# =============================================================================\n",
    "# PLOT LINES IN 2DARRAY\n",
    "# =============================================================================\n",
    "# \"Plot\" the lines within the 2darray\n",
    "for line in input_df.iterrows():\n",
    "    # Retrieve the line's starting and ending coordinate elements\n",
    "    start_x = line[1][0]\n",
    "    start_y = line[1][1]\n",
    "    end_x = line[1][2]\n",
    "    end_y = line[1][3]\n",
    "    \n",
    "    # Generate the line running from the start-point to the end-point\n",
    "    lines = []\n",
    "    # Build verticle lines\n",
    "    if start_x == end_x:\n",
    "        for i in range(min(start_y, end_y), max(start_y, end_y) + 1):\n",
    "            lines.append([start_x, i])\n",
    "    # Build horizontal lines\n",
    "    elif start_y == end_y:\n",
    "        for i in range(min(start_x, end_x), max(start_x, end_x) + 1):\n",
    "            lines.append([i, start_y])\n",
    "    \n",
    "    # \"Plot\" the line in our 2d numpy array\n",
    "    if len(lines) > 0:\n",
    "        for point in lines:\n",
    "            # Retrieve the point's x & y coordinate elements\n",
    "            x, y = point\n",
    "            \n",
    "            # Increment the point's current value by 1\n",
    "            twodarray[y][x]+=1"
   ]
  },
  {
   "cell_type": "code",
   "execution_count": 5,
   "id": "d92d776e-5c81-410e-8224-bb93fbfb66db",
   "metadata": {},
   "outputs": [
    {
     "name": "stdout",
     "output_type": "stream",
     "text": [
      "The number of points where at least two lines overlap is: 6856\n"
     ]
    }
   ],
   "source": [
    "# =============================================================================\n",
    "# CALCULATE # POINTS WHERE >= 2 LINES OVERLAP\n",
    "# =============================================================================\n",
    "# Calculate the number of points where at least two lines overlap\n",
    "points_with_overlap = len(twodarray[twodarray >= 2])\n",
    "\n",
    "print(f'The number of points where at least two lines overlap is: {points_with_overlap}')"
   ]
  }
 ],
 "metadata": {
  "kernelspec": {
   "display_name": "Python 3",
   "language": "python",
   "name": "python3"
  },
  "language_info": {
   "codemirror_mode": {
    "name": "ipython",
    "version": 3
   },
   "file_extension": ".py",
   "mimetype": "text/x-python",
   "name": "python",
   "nbconvert_exporter": "python",
   "pygments_lexer": "ipython3",
   "version": "3.8.8"
  }
 },
 "nbformat": 4,
 "nbformat_minor": 5
}
